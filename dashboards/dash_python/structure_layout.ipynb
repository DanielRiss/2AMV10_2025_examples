{
 "cells": [
  {
   "cell_type": "markdown",
   "id": "e11a6f28",
   "metadata": {},
   "source": [
    "## Structure and Layout\n",
    "\n",
    "To start coding your project, we highly suggest following a clear structure in your code. You can do this by keeping the main app.py simple, with plenty callbacks to helper functions you can define in other files, to keep simplicity. Here, we will use such a structure. In this example the components connect everything together so that everything responds dynamically to tab selection by using a single callback function that connects the tab UI, data loaders, and visualisation builders. Here's how that flow works in practice:\n",
    "\n",
    "* **User selects tabs** – The dashboard has two tab sets: graph-tabs (which analysis view to show) and data-tabs (whether to use Movie or Series data). These serve as inputs to the central callback.\n",
    "\n",
    "* **Callback receives tab values** – The @app.callback decorator in app.py listens for changes to these tabs. It sends the selected values into the update_tab() function.\n",
    "\n",
    "* **Data is loaded** – The load_data(tab) helper selects the correct .csv and .xlsx combo based on whether the user is exploring movies or series.\n",
    "\n",
    "* **Builder function is selected** – Depending on the analysis tab (overview, content_creators, etc.), the callback looks up the appropriate visualisation generator (like generate_visualizations1). This lookup happens via a dictionary (VISUALIZATION_BUILDERS), making the logic declarative and easy to extend.\n",
    "\n",
    "* **Figures are generated** – The selected builder function is run with the loaded data, returning a fixed number of Plotly figures (2 or 4 depending on the tab).\n",
    "\n",
    "* **Figures are wrapped into layout** – These figures are passed into wrap_figures(), a helper that arranges them into a 2-column grid using dcc.Graph components.\n",
    "\n",
    "* **Dash injects the layout** – The wrapped layout is returned as the output of the callback, replacing the contents of <div id='tabs-content'> in the app layout.\n",
    "\n",
    "This pattern is powerful because it decouples content generation from layout logic, and avoids repetitive if-else blocks. Adding a new tab requires only adding a new builder function and registering it in a dictionary—no need to rewrite the callback itself.\n",
    "\n",
    "We recommend checking out the full app.py code and the .py files in /src to get a good feel for it yourself. Below, we'll go more in depth on this code, to understand how it works exactly, so that you can implement some of its elements in your own project.\n",
    "\n",
    "---\n"
   ]
  },
  {
   "cell_type": "markdown",
   "id": "272f3291",
   "metadata": {},
   "source": [
    "### Setup\n",
    "To start, we'll have to do some simple imports. Make sure you import all relevant features that you want to use from dash, and the helper functions you'll use for the visualizations and data extraction:"
   ]
  },
  {
   "cell_type": "code",
   "execution_count": 4,
   "id": "19c78252",
   "metadata": {},
   "outputs": [],
   "source": [
    "from pathlib import Path #i like using this path library to have a set path saved, kind of as a variable, that we can then reuse everywhere, but you don't have to use this.\n",
    "\n",
    "import dash_bootstrap_components as dbc #see explanation of bootstrap below\n",
    "import pandas as pd #for database management (dataframes)\n",
    "from dash import Dash, dcc, html, Input, Output\n",
    "\n",
    "from src.const import get_constants #helper function to get constants from our datasets\n",
    "from src import dash1, dash2, dash3, dash4 #helper functions to create the visualizations based on selected tabs."
   ]
  },
  {
   "cell_type": "markdown",
   "id": "d8d3defd",
   "metadata": {},
   "source": [
    "**What's Bootstrap?**\n",
    "\n",
    "Bootstrap is a CSS framework that helps you build responsive and well-structured UIs using a 12-column grid and pre-styled components like cards, buttons, and rows. In our case, we use Dash Bootstrap Components (dbc) to bring Bootstrap's layout and styling into the Dash ecosystem. \n",
    "\n",
    "We don't actually use .css files here, as bootstrap can handle it on its own, without that. Though you are free to use a custom .css file if that aligns with your dashboard, there is a seperate .css notebook in the Github that will go into this shortly.\n",
    "\n",
    "In this IMDb dashboard example: \n",
    "* Bootstrap provides the grid system (dbc.Container, dbc.Row, dbc.Col) for clean layout and automatic responsiveness.\n",
    "* It also gives us themeable UI elements like dbc.Card, which we use for KPI tiles.\n",
    "* Dash handles the interactivity (via Python + callbacks), while Bootstrap ensures the app looks good on all screen sizes without writing custom CSS.\n",
    "\n",
    "Think of Bootstrap as the design scaffolding, and Dash as the brain.\n",
    "\n",
    "---"
   ]
  },
  {
   "cell_type": "markdown",
   "id": "204801e9",
   "metadata": {},
   "source": [
    "Then, before we define the layout and logic, we define a few global constants and mappings. These support dynamic tab logic, dropdown filtering, card rendering, and consistent styling across the app.\n",
    "\n",
    "We load our datasets, in this case, the movie and series datasets (both .csv and .xlsx) once at startup using Path(...) / filename, which is cleaner and OS-agnostic."
   ]
  },
  {
   "cell_type": "code",
   "execution_count": null,
   "id": "8293327e",
   "metadata": {},
   "outputs": [],
   "source": [
    "DATA_DIR = Path(\"./data\") #whatever the path to your data is\n",
    "\n",
    "MOVIES = pd.read_csv(DATA_DIR / \"movie_after_cleaning.csv\")\n",
    "MOVIES_SPLITS = pd.read_excel(DATA_DIR / \"splits_movie.xlsx\", sheet_name=None)\n",
    "SERIES = pd.read_csv(DATA_DIR / \"series_after_cleaning.csv\")\n",
    "SERIES_SPLITS = pd.read_excel(DATA_DIR / \"splits_series.xlsx\", sheet_name=None)"
   ]
  },
  {
   "cell_type": "markdown",
   "id": "0d12befa",
   "metadata": {},
   "source": [
    "Instead of using if tab == ..., we use dictionaries for clarity and extensibility:"
   ]
  },
  {
   "cell_type": "code",
   "execution_count": null,
   "id": "accf327a",
   "metadata": {},
   "outputs": [],
   "source": [
    "DATA_BY_TAB = {\n",
    "    \"movie\": (MOVIES, MOVIES_SPLITS),\n",
    "    \"series\": (SERIES, SERIES_SPLITS),\n",
    "}"
   ]
  },
  {
   "cell_type": "markdown",
   "id": "0b095559",
   "metadata": {},
   "source": [
    "So inside the callback we can just do something like:\n",
    "\"data, splits = DATA_BY_TAB[data_tab]\"\n",
    "\n",
    "However, if you are not familiar with using a dictionary (or just don't want to :P), you can use a simple if–elif structure like this:\n",
    "```\n",
    "if data_tab == \"movie\":\n",
    "    data, splits = MOVIES, MOVIES_SPLITS\n",
    "elif data_tab == \"series\":\n",
    "    data, splits = SERIES, SERIES_SPLITS\n",
    "```"
   ]
  }
 ],
 "metadata": {
  "kernelspec": {
   "display_name": "Python 3",
   "language": "python",
   "name": "python3"
  },
  "language_info": {
   "codemirror_mode": {
    "name": "ipython",
    "version": 3
   },
   "file_extension": ".py",
   "mimetype": "text/x-python",
   "name": "python",
   "nbconvert_exporter": "python",
   "pygments_lexer": "ipython3",
   "version": "3.11.2"
  }
 },
 "nbformat": 4,
 "nbformat_minor": 5
}
