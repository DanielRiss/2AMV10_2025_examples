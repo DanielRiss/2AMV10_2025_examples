{
 "cells": [
  {
   "cell_type": "markdown",
   "id": "e11a6f28",
   "metadata": {},
   "source": [
    "## Project Startup Structure\n",
    "\n",
    "When building a dashboard project, especially one with multiple views, it's important to separate the data logic from the layout logic. This keeps things simple and easy to debug.\n",
    "\n",
    "In this notebook, we focus on the startup structure:\n",
    "* How we load and manage data\n",
    "\n",
    "* How we define constants\n",
    "\n",
    "* How we organize helper functions (like for computing KPIs)\n",
    "\n",
    "* How we centralize styles\n",
    "\n",
    "We'll not yet focus on layout like dbc.Container or the full app structure. That comes in a separate notebook: 01_layout_structure.ipynb.\n",
    "\n",
    "This notebook is all about setting up the backend smartly, so that your layout and callback logic can be clean, reusable, and easy to extend."
   ]
  },
  {
   "cell_type": "markdown",
   "id": "272f3291",
   "metadata": {},
   "source": [
    "### Setup\n",
    "To start, we'll have to do some simple imports. Make sure you import all relevant features that you want to use from dash, and the helper functions you'll use for the visualizations and data extraction:"
   ]
  },
  {
   "cell_type": "code",
   "execution_count": 1,
   "id": "19c78252",
   "metadata": {},
   "outputs": [],
   "source": [
    "from pathlib import Path #i like using this path library to have a set path saved, kind of as a variable, that we can then reuse everywhere, but you don't have to use this.\n",
    "\n",
    "import dash_bootstrap_components as dbc #see explanation of bootstrap below\n",
    "import pandas as pd #for database management (dataframes)\n",
    "from dash import Dash, dcc, html, Input, Output\n",
    "\n",
    "from src.const import get_constants #helper function to get constants from our datasets\n",
    "from src import dash1, dash2, dash3, dash4 #helper functions to create the visualizations based on selected tabs."
   ]
  },
  {
   "cell_type": "markdown",
   "id": "d8d3defd",
   "metadata": {},
   "source": [
    "**What's Bootstrap?**\n",
    "\n",
    "Bootstrap is a CSS framework that helps you build responsive and well-structured UIs using a 12-column grid and pre-styled components like cards, buttons, and rows. In our case, we use Dash Bootstrap Components (dbc) to bring Bootstrap's layout and styling into the Dash ecosystem. \n",
    "\n",
    "We don't actually use .css files here, as bootstrap can handle it on its own, without that. Though you are free to use a custom .css file if that aligns with your dashboard, there is a seperate .css notebook in the Github that will go into this shortly.\n",
    "\n",
    "In this IMDb dashboard example: \n",
    "* Bootstrap provides the grid system (dbc.Container, dbc.Row, dbc.Col) for clean layout and automatic responsiveness.\n",
    "* It also gives us themeable UI elements like dbc.Card, which we use for KPI tiles.\n",
    "* Dash handles the interactivity (via Python + callbacks), while Bootstrap ensures the app looks good on all screen sizes without writing custom CSS.\n",
    "\n",
    "Think of Bootstrap as the design scaffolding, and Dash as the brain.\n",
    "\n",
    "---"
   ]
  },
  {
   "cell_type": "markdown",
   "id": "204801e9",
   "metadata": {},
   "source": [
    "Then, before we define the layout and logic, we define a few global constants and mappings. These support dynamic tab logic, dropdown filtering, card rendering, and consistent styling across the app.\n",
    "\n",
    "We load our datasets, in this case, the movie and series datasets (both .csv and .xlsx) once at startup using Path(...) / filename, which is cleaner and OS-agnostic."
   ]
  },
  {
   "cell_type": "code",
   "execution_count": 2,
   "id": "8293327e",
   "metadata": {},
   "outputs": [],
   "source": [
    "DATA_DIR = Path(\"./data\") #whatever the path to your data is\n",
    "\n",
    "MOVIES = pd.read_csv(DATA_DIR / \"movie_after_cleaning.csv\")\n",
    "MOVIES_SPLITS = pd.read_excel(DATA_DIR / \"splits_movie.xlsx\", sheet_name=None)\n",
    "SERIES = pd.read_csv(DATA_DIR / \"series_after_cleaning.csv\")\n",
    "SERIES_SPLITS = pd.read_excel(DATA_DIR / \"splits_series.xlsx\", sheet_name=None)"
   ]
  },
  {
   "cell_type": "markdown",
   "id": "0d12befa",
   "metadata": {},
   "source": [
    "Instead of using if tab == ..., we use dictionaries for clarity and extensibility:"
   ]
  },
  {
   "cell_type": "code",
   "execution_count": 3,
   "id": "accf327a",
   "metadata": {},
   "outputs": [],
   "source": [
    "DATA_BY_TAB = {\n",
    "    \"movie\": (MOVIES, MOVIES_SPLITS),\n",
    "    \"series\": (SERIES, SERIES_SPLITS),\n",
    "}"
   ]
  },
  {
   "cell_type": "markdown",
   "id": "0b095559",
   "metadata": {},
   "source": [
    "So inside the callback we can just do something like:\n",
    "```\n",
    "\"data, splits = DATA_BY_TAB[data_tab]\"\n",
    "```\n",
    "\n",
    "However, if you are not familiar with using a dictionary (or just don't want to :P), you can use a simple if–elif structure like this:\n",
    "```\n",
    "if data_tab == \"movie\":\n",
    "    data, splits = MOVIES, MOVIES_SPLITS\n",
    "elif data_tab == \"series\":\n",
    "    data, splits = SERIES, SERIES_SPLITS\n",
    "```\n",
    "\n",
    "Likewise, we define which builder function to use per analysis tab:"
   ]
  },
  {
   "cell_type": "code",
   "execution_count": 4,
   "id": "42b70132",
   "metadata": {},
   "outputs": [],
   "source": [
    "VISUALIZATION_BUILDERS = {\n",
    "    \"overview\": (dash1.generate_visualizations, 4),\n",
    "    \"content_creators\": (dash2.generate_visualizations, 4),\n",
    "    \"parental\": (dash3.generate_visualizations, 2),\n",
    "    \"year\": (dash4.generate_visualizations, 2),\n",
    "}"
   ]
  },
  {
   "cell_type": "markdown",
   "id": "0390912e",
   "metadata": {},
   "source": [
    "Here, the dashX.generate_visualizations is taking the function \"generate_visualizations\" from the chosen .py file (dash1, dash2, ...), and gives it a proper name, for easy reference later.\n",
    "\n",
    "Also, this way every builder takes (data, splits) and returns n figures. And wit some code in the callback, will let us catch early errors, so that the entire browser doesn't crash with one faulty code line.\n",
    "\n",
    "Then, we call get_constants(...) once and store the KPI values globally:"
   ]
  },
  {
   "cell_type": "code",
   "execution_count": 5,
   "id": "c7af6f67",
   "metadata": {},
   "outputs": [],
   "source": [
    "# Top-level stats\n",
    "NUM_WORKS, NUM_COUNTRIES, NUM_LANGUAGES, AVG_VOTES = get_constants(\n",
    "    MOVIES, SERIES, MOVIES_SPLITS, SERIES_SPLITS\n",
    ")"
   ]
  },
  {
   "cell_type": "markdown",
   "id": "b0e2a4de",
   "metadata": {},
   "source": [
    "We use these numbers as a display at the top of the dashboard in the stat cards. By computing them once, we avoid recalculating every time the dashboard refreshes. _(KPI values here means Key Performance Indicators: summary statistics that give users a quick, at-a-glance overview of the dataset.)_\n",
    "\n",
    "_**How do we build such a helper function?**_\n",
    "\n",
    "Let’s quickly look at how we define a helper function, which is a vital part of creating a clean back-end structure that keeps your head from exploding when coding such a dashboard! In this example (but you can do whatever you want of course), we want this helper function, (_const.py_), to calculate the four KPI values used in the dashboard. These values are shown in the stat cards at the top of the app layout.\n",
    "\n",
    "I will copy paste the entire function here, just as you would put it in a .py file, and the comments in the code will explain what each line of code achieves:"
   ]
  },
  {
   "cell_type": "code",
   "execution_count": 6,
   "id": "5b92683c",
   "metadata": {},
   "outputs": [],
   "source": [
    "import pandas as pd\n",
    "\n",
    "def get_constants(movies, series, movies_splits, series_splits):\n",
    "    \"\"\"\n",
    "    Return four key KPI values for the dashboard:\n",
    "    1. Total number of works (movies + series)\n",
    "    2. Total unique countries represented\n",
    "    3. Total unique languages represented\n",
    "    4. Average votes (integer) across movies and series\n",
    "    \"\"\"\n",
    "\n",
    "    # Count total rows in both datasets\n",
    "    # If movies has 120,000 entries and series has 50,000, this returns 170000\n",
    "    num_of_works = len(movies) + len(series)\n",
    "\n",
    "    # Extract all country names from both movie and series splits\n",
    "    # Then concatenate into one Series and count unique values\n",
    "    countries = pd.concat(\n",
    "        [movies_splits[\"country\"][\"country\"], series_splits[\"country\"][\"country\"]],\n",
    "        ignore_index=True,  # Ensures clean index after concat\n",
    "    )\n",
    "    num_of_countries = countries.nunique()\n",
    "\n",
    "    # Same for spoken languages: merge both columns, then count unique entries\n",
    "    languages = pd.concat(\n",
    "        [movies_splits[\"language\"][\"language\"], series_splits[\"language\"][\"language\"]],\n",
    "        ignore_index=True,\n",
    "    )\n",
    "    num_of_lang = languages.nunique()\n",
    "\n",
    "    # Take the average of the vote averages across both datasets\n",
    "    # We don’t merge the dataframes to avoid skewing the result\n",
    "    avg_votes = int((movies[\"votes\"].mean() + series[\"votes\"].mean()) / 2)\n",
    "\n",
    "    # Return a tuple of all four KPI values\n",
    "    return num_of_works, num_of_countries, num_of_lang, avg_votes\n"
   ]
  },
  {
   "cell_type": "markdown",
   "id": "d8e477aa",
   "metadata": {},
   "source": [
    "Then, as we saw, we can simply call it once in app.py when the app starts:\n",
    "```\n",
    "from src.const import get_constants\n",
    "\n",
    "NUM_WORKS, NUM_COUNTRIES, NUM_LANGUAGES, AVG_VOTES = get_constants(\n",
    "    MOVIES, SERIES, MOVIES_SPLITS, SERIES_SPLITS\n",
    ")\n",
    "```\n",
    "\n",
    "As a quick intermission in the code, a handy thing to do in dash to keep dropdowns fast and responsive, is only including the first 3,300 titles:"
   ]
  },
  {
   "cell_type": "code",
   "execution_count": 7,
   "id": "3bda42bb",
   "metadata": {},
   "outputs": [],
   "source": [
    "MAX_OPTIONS_DISPLAY = 3_300\n",
    "DROPDOWN_OPTIONS = {\n",
    "    \"movie\": [{\"label\": t, \"value\": t} for t in MOVIES[\"title\"][:MAX_OPTIONS_DISPLAY]],\n",
    "    \"series\": [{\"label\": t, \"value\": t} for t in SERIES[\"title\"][:MAX_OPTIONS_DISPLAY]],\n",
    "}"
   ]
  },
  {
   "cell_type": "markdown",
   "id": "659adf4b",
   "metadata": {},
   "source": [
    "This avoids crashing the browser with too many options, especially on slower machines.\n",
    "\n",
    "Lastly, again using dictionaries, we define all core \"styles\" that we will use. I annotated each line again to give you an idea of what every part does. But you are advised to look up some Dash/Bootstrap tutorials or lookup tables to find the exact wording of code you need to achieve your aesthetic goals:"
   ]
  },
  {
   "cell_type": "code",
   "execution_count": 8,
   "id": "d5377e0b",
   "metadata": {},
   "outputs": [],
   "source": [
    "# Define the brand yellow once, so we can reuse it everywhere\n",
    "BRAND_COLOR = \"#deb522\"\n",
    "\n",
    "# Style settings for the KPI cards at the top of the dashboard\n",
    "CARD_STYLE = {\n",
    "    \"paddingBlock\": \"10px\",          # Adds vertical padding (top + bottom)\n",
    "    \"backgroundColor\": BRAND_COLOR,  # Sets the card background to our yellow\n",
    "    \"border\": \"none\",                # Removes the default card border\n",
    "    \"borderRadius\": \"10px\",          # Rounds the corners slightly\n",
    "}\n",
    "\n",
    "# Style for tab buttons (when they are *not* selected)\n",
    "TAB_STYLE_IDLE = {\n",
    "    \"borderRadius\": \"10px\",          # Rounded corners\n",
    "    \"padding\": 0,                    # No inner spacing\n",
    "    \"marginInline\": \"5px\",           # Horizontal spacing between tabs\n",
    "    \"display\": \"flex\",               # Enables centering with flexbox\n",
    "    \"alignItems\": \"center\",          # Vertically centers the text/icon\n",
    "    \"justifyContent\": \"center\",      # Horizontally centers the text\n",
    "    \"fontWeight\": \"bold\",            # Makes the tab label bold\n",
    "    \"backgroundColor\": BRAND_COLOR,  # Brand yellow tab background\n",
    "    \"border\": \"none\",                # Removes default borders\n",
    "}\n",
    "\n",
    "# Style for the *selected* tab\n",
    "# We reuse the idle style, but add an underline\n",
    "TAB_STYLE_ACTIVE = {\n",
    "    **TAB_STYLE_IDLE,                # Unpack all the properties from TAB_STYLE_IDLE\n",
    "    \"textDecoration\": \"underline\"   # Add an underline to show it’s selected\n",
    "}"
   ]
  },
  {
   "cell_type": "markdown",
   "id": "6d2b469b",
   "metadata": {},
   "source": [
    "---\n",
    "\n",
    "### More helper functions\n",
    "\n",
    "To keep our app.layout and callback code clean and readable, we define two small helper functions: one for KPI cards, and one for wrapping graphs into a layout.\n",
    "\n",
    "Let’s look at them in detail:"
   ]
  },
  {
   "cell_type": "code",
   "execution_count": 9,
   "id": "6fea755b",
   "metadata": {},
   "outputs": [],
   "source": [
    "def stats_card(title: str, value, img: str) -> html.Div:\n",
    "    \"\"\"Single KPI card.\"\"\"\n",
    "    return html.Div(\n",
    "        dbc.Card(\n",
    "            [\n",
    "                # Top image (e.g., country flag or language icon)\n",
    "                dbc.CardImg(src=img, top=True, style={\"width\": \"50px\", \"alignSelf\": \"center\"}),\n",
    "\n",
    "                # Text content inside the card body\n",
    "                dbc.CardBody(\n",
    "                    [\n",
    "                        # The actual number, styled boldly\n",
    "                        html.P(value, style={\"margin\": 0, \"fontSize\": \"22px\", \"fontWeight\": \"bold\"}),\n",
    "\n",
    "                        # The label under the number (e.g., \"Languages\")\n",
    "                        html.H4(title, style={\"margin\": 0, \"fontSize\": \"18px\", \"fontWeight\": \"bold\"}),\n",
    "                    ],\n",
    "                    style={\"textAlign\": \"center\"},  # Center everything inside the card body\n",
    "                ),\n",
    "            ],\n",
    "            style=CARD_STYLE,  # Use our predefined yellow + rounded card style\n",
    "        )\n",
    "    )\n"
   ]
  },
  {
   "cell_type": "markdown",
   "id": "48d70719",
   "metadata": {},
   "source": [
    "So why use a function for this, and not just code it into our callbacks?\n",
    "If you were to repeat the same code for all 4 KPI callbacks (the values we discussed above, for which we had the const.py helper function to retrieve), we would call that \"dry code\". Basically, the 4 KPI cards are visually identical, except for their values and icons. So instead of repeating the same layout 4 times, we just call this function with different values.\n",
    "\n",
    "This also helps with central styling. I.e., if you ever want to change how all the cards look, you only need to update stats_card() once. This practice goes for all repeatable code, of course!\n",
    "\n",
    "This function above returns a full html.Div containing a dbc.Card, which you can insert directly into your layout using dbc.Col(). We'll see more about that later.\n",
    "\n",
    "Now for the second one:"
   ]
  },
  {
   "cell_type": "code",
   "execution_count": 10,
   "id": "f0446ae6",
   "metadata": {},
   "outputs": [],
   "source": [
    "def wrap_figures(figures) -> html.Div:\n",
    "    \"\"\"Lay out a list of Plotly figures in a 2-column grid.\"\"\"\n",
    "    return html.Div(\n",
    "        [\n",
    "            html.Div(dcc.Graph(figure=fig), style={\"width\": \"50%\", \"display\": \"inline-block\"})\n",
    "            for fig in figures\n",
    "        ]\n",
    "    )"
   ]
  },
  {
   "cell_type": "markdown",
   "id": "0c6e1693",
   "metadata": {},
   "source": [
    "This function is useful for our use case here, because every visualisation function that we define, returns a list of Plotly figures (usually 2 or 4).\n",
    "\n",
    "Dash does not automatically lay these out nicely, that would be too easy, I guess... So, instead of us laying each one out manually (which is a dread, believe me), we wrap them using this function!\n",
    "\n",
    "It auto-formats them in a responsive 2-column grid using width: 50% and display: inline-block. So whether we have 2 or 4 graphs, they always show up neatly in two columns. You are welcome to use something similar for your dashboard, whether you want a 2-column grid like this, or a 4, or 8, whatever, just alter the code accordingly."
   ]
  }
 ],
 "metadata": {
  "kernelspec": {
   "display_name": "Python 3",
   "language": "python",
   "name": "python3"
  },
  "language_info": {
   "codemirror_mode": {
    "name": "ipython",
    "version": 3
   },
   "file_extension": ".py",
   "mimetype": "text/x-python",
   "name": "python",
   "nbconvert_exporter": "python",
   "pygments_lexer": "ipython3",
   "version": "3.11.2"
  }
 },
 "nbformat": 4,
 "nbformat_minor": 5
}
